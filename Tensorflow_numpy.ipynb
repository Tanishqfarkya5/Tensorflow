{
  "nbformat": 4,
  "nbformat_minor": 0,
  "metadata": {
    "colab": {
      "provenance": [],
      "authorship_tag": "ABX9TyPwgMQ/IJ+x5l3dgOIU9q+K",
      "include_colab_link": true
    },
    "kernelspec": {
      "name": "python3",
      "display_name": "Python 3"
    },
    "language_info": {
      "name": "python"
    }
  },
  "cells": [
    {
      "cell_type": "markdown",
      "metadata": {
        "id": "view-in-github",
        "colab_type": "text"
      },
      "source": [
        "<a href=\"https://colab.research.google.com/github/Tanishqfarkya5/Tensorflow/blob/main/Tensorflow_numpy.ipynb\" target=\"_parent\"><img src=\"https://colab.research.google.com/assets/colab-badge.svg\" alt=\"Open In Colab\"/></a>"
      ]
    },
    {
      "cell_type": "markdown",
      "source": [
        "##Defining the constant and variables\n"
      ],
      "metadata": {
        "id": "GQMcqFXSpVHy"
      }
    },
    {
      "cell_type": "code",
      "execution_count": null,
      "metadata": {
        "colab": {
          "base_uri": "https://localhost:8080/",
          "height": 36
        },
        "id": "F2nm8BTjmRQw",
        "outputId": "866c9734-f4aa-4968-a980-f5734aeb0cb9"
      },
      "outputs": [
        {
          "output_type": "execute_result",
          "data": {
            "text/plain": [
              "'2.17.0'"
            ],
            "application/vnd.google.colaboratory.intrinsic+json": {
              "type": "string"
            }
          },
          "metadata": {},
          "execution_count": 23
        }
      ],
      "source": [
        "import numpy as np\n",
        "import tensorflow as tf\n",
        "tf.__version__"
      ]
    },
    {
      "cell_type": "code",
      "source": [
        "x = tf.constant(([1,2,3],[4,5,6]))\n",
        "x"
      ],
      "metadata": {
        "colab": {
          "base_uri": "https://localhost:8080/"
        },
        "id": "hKDEYFFRmZr6",
        "outputId": "4dd06cb8-ecef-4fce-b9ce-040338ac80c9"
      },
      "execution_count": null,
      "outputs": [
        {
          "output_type": "execute_result",
          "data": {
            "text/plain": [
              "<tf.Tensor: shape=(2, 3), dtype=int32, numpy=\n",
              "array([[1, 2, 3],\n",
              "       [4, 5, 6]], dtype=int32)>"
            ]
          },
          "metadata": {},
          "execution_count": 24
        }
      ]
    },
    {
      "cell_type": "code",
      "source": [
        "print(x.shape)\n",
        "print(x.dtype)\n",
        "print(x.numpy())"
      ],
      "metadata": {
        "colab": {
          "base_uri": "https://localhost:8080/"
        },
        "id": "YOTw4E9Cm0cQ",
        "outputId": "651535e0-bcd7-4a72-a954-ea0601575415"
      },
      "execution_count": null,
      "outputs": [
        {
          "output_type": "stream",
          "name": "stdout",
          "text": [
            "(2, 3)\n",
            "<dtype: 'int32'>\n",
            "[[1 2 3]\n",
            " [4 5 6]]\n"
          ]
        }
      ]
    },
    {
      "cell_type": "code",
      "source": [
        "var = tf.Variable([0.0, 0.0, 0.0])\n",
        "var.assign([1,2,3])\n",
        "var\n",
        "var.assign_add([1,3,5])\n",
        "var\n"
      ],
      "metadata": {
        "colab": {
          "base_uri": "https://localhost:8080/"
        },
        "id": "fqoEqKkunMek",
        "outputId": "5bf052f0-a101-45e8-8a91-4ef5ffe02afb"
      },
      "execution_count": null,
      "outputs": [
        {
          "output_type": "execute_result",
          "data": {
            "text/plain": [
              "<tf.Variable 'Variable:0' shape=(3,) dtype=float32, numpy=array([2., 5., 8.], dtype=float32)>"
            ]
          },
          "metadata": {},
          "execution_count": 26
        }
      ]
    },
    {
      "cell_type": "code",
      "source": [
        "print(var.numpy())"
      ],
      "metadata": {
        "colab": {
          "base_uri": "https://localhost:8080/"
        },
        "id": "JZHhoZyroG-M",
        "outputId": "0c3d3751-ed7f-4f6a-cd34-86fbc3beaa72"
      },
      "execution_count": null,
      "outputs": [
        {
          "output_type": "stream",
          "name": "stdout",
          "text": [
            "[2. 5. 8.]\n"
          ]
        }
      ]
    },
    {
      "cell_type": "code",
      "source": [
        "A = tf.constant([[3, 4, 5], [1, 4, 6]])\n",
        "B = tf.constant([[1, 1, 1], [2, 3, 4]])\n",
        "AB_conc_col = tf.concat([A, B], axis=1)\n",
        "print(AB_conc_col.numpy())\n"
      ],
      "metadata": {
        "colab": {
          "base_uri": "https://localhost:8080/"
        },
        "id": "zxcKYPFMotRy",
        "outputId": "987205de-8212-4d55-c9d4-f8834b801613"
      },
      "execution_count": null,
      "outputs": [
        {
          "output_type": "stream",
          "name": "stdout",
          "text": [
            "[[3 4 5 1 1 1]\n",
            " [1 4 6 2 3 4]]\n"
          ]
        }
      ]
    },
    {
      "cell_type": "code",
      "source": [
        "AB_conc_row = tf.concat([A, B], axis=0)\n",
        "print(AB_conc_row.numpy())\n"
      ],
      "metadata": {
        "colab": {
          "base_uri": "https://localhost:8080/"
        },
        "id": "4BMGiBzCpT1b",
        "outputId": "eaa52d47-79aa-42ff-9365-1cf2988a8c60"
      },
      "execution_count": null,
      "outputs": [
        {
          "output_type": "stream",
          "name": "stdout",
          "text": [
            "[[3 4 5]\n",
            " [1 4 6]\n",
            " [1 1 1]\n",
            " [2 3 4]]\n"
          ]
        }
      ]
    },
    {
      "cell_type": "code",
      "source": [
        "t1 = tf.reshape(AB_conc_row,shape=[1,12])\n",
        "print(t1.numpy())"
      ],
      "metadata": {
        "colab": {
          "base_uri": "https://localhost:8080/"
        },
        "id": "LJ-b9FXAr_0p",
        "outputId": "9a0298ac-7d8a-4435-c638-cf296248bdad"
      },
      "execution_count": null,
      "outputs": [
        {
          "output_type": "stream",
          "name": "stdout",
          "text": [
            "[[3 4 5 1 4 6 1 1 1 2 3 4]]\n"
          ]
        }
      ]
    },
    {
      "cell_type": "code",
      "source": [
        "a= tf.constant(2.0)\n",
        "b = tf.constant(5.0)\n",
        "c= tf.constant(7.0)\n",
        "add3 = tf.add(tf.add(a,b),c)\n",
        "add3.numpy()"
      ],
      "metadata": {
        "colab": {
          "base_uri": "https://localhost:8080/"
        },
        "id": "HYGenWGYsj6h",
        "outputId": "ff516261-24ab-46ad-9d84-b83f153c8cd7"
      },
      "execution_count": null,
      "outputs": [
        {
          "output_type": "execute_result",
          "data": {
            "text/plain": [
              "14.0"
            ]
          },
          "metadata": {},
          "execution_count": 31
        }
      ]
    },
    {
      "cell_type": "code",
      "source": [
        "d= tf.constant(9.0)\n",
        "e = tf.constant(8.0)\n",
        "add5 = tf.add(tf.add(d,e),add3)\n",
        "add5.numpy()"
      ],
      "metadata": {
        "colab": {
          "base_uri": "https://localhost:8080/"
        },
        "id": "_FbkllPTtuRe",
        "outputId": "bf98ec0c-70b8-4335-81df-e8740fa302dc"
      },
      "execution_count": null,
      "outputs": [
        {
          "output_type": "execute_result",
          "data": {
            "text/plain": [
              "31.0"
            ]
          },
          "metadata": {},
          "execution_count": 32
        }
      ]
    },
    {
      "cell_type": "code",
      "source": [
        "x = tf.constant([[3.,4.,5.], [1.,2.,3.]])\n",
        "y = tf.constant([[7.,8.,9.], [4.,5.,7.]])\n",
        "add_arr = tf.add(x,y)\n",
        "print(add_arr.numpy())"
      ],
      "metadata": {
        "colab": {
          "base_uri": "https://localhost:8080/"
        },
        "id": "182ep7EJuWum",
        "outputId": "cf86ba76-bc9d-47f5-9400-073a38a0bb01"
      },
      "execution_count": null,
      "outputs": [
        {
          "output_type": "stream",
          "name": "stdout",
          "text": [
            "[[10. 12. 14.]\n",
            " [ 5.  7. 10.]]\n"
          ]
        }
      ]
    },
    {
      "cell_type": "code",
      "source": [
        "sub = tf.subtract(x,y)\n",
        "print(sub.numpy())"
      ],
      "metadata": {
        "colab": {
          "base_uri": "https://localhost:8080/"
        },
        "id": "Zg0IB29Xv_5t",
        "outputId": "9da88d4a-920e-43ad-f548-92d320416d6d"
      },
      "execution_count": null,
      "outputs": [
        {
          "output_type": "stream",
          "name": "stdout",
          "text": [
            "[[-4. -4. -4.]\n",
            " [-3. -3. -4.]]\n"
          ]
        }
      ]
    },
    {
      "cell_type": "code",
      "source": [
        "mul = tf.multiply(x,y)\n",
        "print(mul.numpy())"
      ],
      "metadata": {
        "colab": {
          "base_uri": "https://localhost:8080/"
        },
        "id": "Xt9pkjV_wZUN",
        "outputId": "f10d7645-7a38-49e8-c4cf-97e68c4193c8"
      },
      "execution_count": null,
      "outputs": [
        {
          "output_type": "stream",
          "name": "stdout",
          "text": [
            "[[21. 32. 45.]\n",
            " [ 4. 10. 21.]]\n"
          ]
        }
      ]
    },
    {
      "cell_type": "code",
      "source": [
        "div = tf.divide(x,y)\n",
        "print(div.numpy())"
      ],
      "metadata": {
        "colab": {
          "base_uri": "https://localhost:8080/"
        },
        "id": "mpt2ckP6xMuc",
        "outputId": "93ce67dd-9a26-4928-9896-0299774603b6"
      },
      "execution_count": null,
      "outputs": [
        {
          "output_type": "stream",
          "name": "stdout",
          "text": [
            "[[0.42857143 0.5        0.5555556 ]\n",
            " [0.25       0.4        0.42857143]]\n"
          ]
        }
      ]
    },
    {
      "cell_type": "code",
      "source": [
        "mean_x = tf.reduce_mean(x)\n",
        "print(mean_x.numpy())"
      ],
      "metadata": {
        "colab": {
          "base_uri": "https://localhost:8080/"
        },
        "id": "8zbezN02xRX0",
        "outputId": "abe4df9c-1eeb-476f-9ab4-358035bd73f7"
      },
      "execution_count": null,
      "outputs": [
        {
          "output_type": "stream",
          "name": "stdout",
          "text": [
            "3.0\n"
          ]
        }
      ]
    },
    {
      "cell_type": "code",
      "source": [
        "mean_x_col = tf.reduce_mean(x,axis=1)\n",
        "print(mean_x_col.numpy())"
      ],
      "metadata": {
        "colab": {
          "base_uri": "https://localhost:8080/"
        },
        "id": "UMZ_1vN-yx96",
        "outputId": "6ad15b17-3775-4e79-b9b2-9fb231832d1a"
      },
      "execution_count": null,
      "outputs": [
        {
          "output_type": "stream",
          "name": "stdout",
          "text": [
            "[4. 2.]\n"
          ]
        }
      ]
    },
    {
      "cell_type": "code",
      "source": [
        "mean_x_row = tf.reduce_mean(x,axis=0)\n",
        "print(mean_x_row.numpy())"
      ],
      "metadata": {
        "colab": {
          "base_uri": "https://localhost:8080/"
        },
        "id": "1Ry-ceSzz_4C",
        "outputId": "a281ecc4-0de8-4651-b49a-5b92704fffbf"
      },
      "execution_count": null,
      "outputs": [
        {
          "output_type": "stream",
          "name": "stdout",
          "text": [
            "[2. 3. 4.]\n"
          ]
        }
      ]
    },
    {
      "cell_type": "code",
      "source": [
        "a= tf.constant([[10.0,20.0],[30.0,40.0]])\n",
        "b= tf.constant([[30.0,50.0],[60.0,70.0]])\n",
        "c= tf.constant([[20.0,40.0],[80.0,90.0]])\n",
        "sum1 = tf.reduce_sum([a,b,c])\n",
        "print(sum1.numpy())"
      ],
      "metadata": {
        "colab": {
          "base_uri": "https://localhost:8080/"
        },
        "id": "AHUnw7vg0FbS",
        "outputId": "98d8c4e4-3e8a-4e30-b7a0-4ab4cf4b4cfb"
      },
      "execution_count": null,
      "outputs": [
        {
          "output_type": "stream",
          "name": "stdout",
          "text": [
            "540.0\n"
          ]
        }
      ]
    },
    {
      "cell_type": "code",
      "source": [
        "sum_col = tf.reduce_sum([a,b,c],axis=1)\n",
        "print(sum_col.numpy())"
      ],
      "metadata": {
        "colab": {
          "base_uri": "https://localhost:8080/"
        },
        "id": "fl9bp0732OLo",
        "outputId": "2b83de09-49da-4aa8-afa7-7b7008cebdf1"
      },
      "execution_count": null,
      "outputs": [
        {
          "output_type": "stream",
          "name": "stdout",
          "text": [
            "[[ 40.  60.]\n",
            " [ 90. 120.]\n",
            " [100. 130.]]\n"
          ]
        }
      ]
    },
    {
      "cell_type": "code",
      "source": [
        "sum_row = tf.reduce_sum([a,b,c],axis=0)\n",
        "print(sum_row.numpy())"
      ],
      "metadata": {
        "colab": {
          "base_uri": "https://localhost:8080/"
        },
        "id": "wscOlO6n3xdQ",
        "outputId": "54336733-0651-4d87-8907-681a92906a6b"
      },
      "execution_count": null,
      "outputs": [
        {
          "output_type": "stream",
          "name": "stdout",
          "text": [
            "[[ 60. 110.]\n",
            " [170. 200.]]\n"
          ]
        }
      ]
    },
    {
      "cell_type": "code",
      "source": [
        "A = tf.constant([[2,7],[3,4]])\n",
        "At = tf.transpose(A)\n",
        "print(At.numpy())"
      ],
      "metadata": {
        "colab": {
          "base_uri": "https://localhost:8080/"
        },
        "id": "zl742ZgK32aH",
        "outputId": "1518606e-9c9d-4c91-d411-f32e2a52ee96"
      },
      "execution_count": null,
      "outputs": [
        {
          "output_type": "stream",
          "name": "stdout",
          "text": [
            "[[2 3]\n",
            " [7 4]]\n"
          ]
        }
      ]
    },
    {
      "cell_type": "code",
      "source": [
        "v = tf.constant([[5],[8]])\n",
        "mul = tf.matmul(A,v)\n",
        "print(mul.numpy())"
      ],
      "metadata": {
        "colab": {
          "base_uri": "https://localhost:8080/"
        },
        "id": "pR3p0qcQ6IAF",
        "outputId": "b6acd77e-4955-4aff-9db5-8a3072588b7f"
      },
      "execution_count": null,
      "outputs": [
        {
          "output_type": "stream",
          "name": "stdout",
          "text": [
            "[[66]\n",
            " [47]]\n"
          ]
        }
      ]
    },
    {
      "cell_type": "code",
      "source": [
        "v = tf.constant([[5, 1 , 4], [8,6, 2], [6,7,8]], dtype=tf.float32)\n",
        "AD = tf.linalg.det(v)\n",
        "print(AD.numpy())"
      ],
      "metadata": {
        "colab": {
          "base_uri": "https://localhost:8080/"
        },
        "id": "Yi12c6zloax2",
        "outputId": "3da8b967-0f79-453a-a5c5-a40405ae6b33"
      },
      "execution_count": null,
      "outputs": [
        {
          "output_type": "stream",
          "name": "stdout",
          "text": [
            "198.00002\n"
          ]
        }
      ]
    },
    {
      "cell_type": "code",
      "source": [
        "vt = tf.transpose(v)\n",
        "print(vt.numpy())"
      ],
      "metadata": {
        "id": "BgbLMz9Boa42",
        "colab": {
          "base_uri": "https://localhost:8080/"
        },
        "outputId": "3d5a32ee-9762-46b3-b942-618f94e05200"
      },
      "execution_count": null,
      "outputs": [
        {
          "output_type": "stream",
          "name": "stdout",
          "text": [
            "[[5. 8. 6.]\n",
            " [1. 6. 7.]\n",
            " [4. 2. 8.]]\n"
          ]
        }
      ]
    },
    {
      "cell_type": "code",
      "source": [
        "def linear_function():\n",
        "  x = tf.constant(np.random.randn(3,1))\n",
        "  w = tf.constant(np.random.randn(4,3))\n",
        "  b = tf.constant(np.random.randn(4,1))\n",
        "  y = tf.add(tf.matmul(w,x),b)\n",
        "  return y\n",
        "print(linear_function().numpy())"
      ],
      "metadata": {
        "id": "M-0RIlIWoa8Y",
        "colab": {
          "base_uri": "https://localhost:8080/"
        },
        "outputId": "b3b266ae-4993-4fc4-9153-507612247954"
      },
      "execution_count": null,
      "outputs": [
        {
          "output_type": "stream",
          "name": "stdout",
          "text": [
            "[[ 0.22166159]\n",
            " [-0.99449423]\n",
            " [-0.73048809]\n",
            " [-2.64424579]]\n"
          ]
        }
      ]
    },
    {
      "cell_type": "code",
      "source": [
        " def linear_function():\n",
        "  x = tf.constant(np.random.randn(3,1))\n",
        "  w = tf.constant(np.random.randn(1,3))\n",
        "  b = tf.constant(np.random.randn(3,1))\n",
        "  y = tf.add(tf.matmul(x,w),b)\n",
        "  return y\n",
        "print(linear_function().numpy())"
      ],
      "metadata": {
        "id": "n9nKzK2Roa_9",
        "colab": {
          "base_uri": "https://localhost:8080/"
        },
        "outputId": "2940320a-db58-4c12-c3da-43b7bd805fd3"
      },
      "execution_count": null,
      "outputs": [
        {
          "output_type": "stream",
          "name": "stdout",
          "text": [
            "[[-1.2625439  -0.73888738 -1.2466265 ]\n",
            " [ 0.93842581  1.44295812  0.95376189]\n",
            " [ 1.56215357 -1.37027244  1.47301767]]\n"
          ]
        }
      ]
    },
    {
      "cell_type": "code",
      "source": [],
      "metadata": {
        "id": "YRm-6BNVobDd"
      },
      "execution_count": null,
      "outputs": []
    },
    {
      "cell_type": "code",
      "source": [],
      "metadata": {
        "id": "wanIaV1fobHU"
      },
      "execution_count": null,
      "outputs": []
    },
    {
      "cell_type": "code",
      "source": [],
      "metadata": {
        "id": "FlenN_hSobKv"
      },
      "execution_count": null,
      "outputs": []
    },
    {
      "cell_type": "code",
      "source": [],
      "metadata": {
        "id": "d6IKeQMJobOb"
      },
      "execution_count": null,
      "outputs": []
    }
  ]
}