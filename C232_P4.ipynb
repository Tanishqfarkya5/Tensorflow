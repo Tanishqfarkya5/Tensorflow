{
  "nbformat": 4,
  "nbformat_minor": 0,
  "metadata": {
    "colab": {
      "provenance": [],
      "include_colab_link": true
    },
    "kernelspec": {
      "name": "python3",
      "display_name": "Python 3"
    },
    "language_info": {
      "name": "python"
    }
  },
  "cells": [
    {
      "cell_type": "markdown",
      "metadata": {
        "id": "view-in-github",
        "colab_type": "text"
      },
      "source": [
        "<a href=\"https://colab.research.google.com/github/Tanishqfarkya5/Tensorflow/blob/main/C232_P4.ipynb\" target=\"_parent\"><img src=\"https://colab.research.google.com/assets/colab-badge.svg\" alt=\"Open In Colab\"/></a>"
      ]
    },
    {
      "cell_type": "code",
      "execution_count": 1,
      "metadata": {
        "id": "JAGRbN3nQYg0"
      },
      "outputs": [],
      "source": [
        "import tensorflow as tf\n",
        "from sklearn.model_selection import train_test_split\n",
        "from sklearn.datasets import  load_iris\n",
        "from sklearn.preprocessing import StandardScaler"
      ]
    },
    {
      "cell_type": "code",
      "source": [
        "data = load_iris()\n",
        "X = data.data\n",
        "y =data.target\n",
        "X = StandardScaler().fit_transform(X)\n",
        "X_train, X_val, y_train, y_val = train_test_split(X, y, test_size=0.2,random_state=42)\n",
        "def build_model(num_hidden_layers,activation_function):\n",
        "  model = tf.keras.Sequential()\n",
        "  model.add(tf.keras.layers.Input(shape=(X_train.shape[1],)))\n",
        "  for _ in range(num_hidden_layers):\n",
        "    model.add(tf.keras.layers.Dense(units=64,activation=activation_function))\n",
        "  model.add(tf.keras.layers.Dense(units=3,activation='softmax'))\n",
        "  return model\n",
        "num_epochs_list = list(map(int, input(\"Enter a list of number of epochs (e.g., 10 50 100): \").split()))\n",
        "num_hidden_layers_list = list(map(int,input(\"Enter a list of number of hidden layers (e.g., 1 2 3): \").split()))\n",
        "activation_functions = input(\"Enter a list of activation functions (e.g.,relu tanh sigmoid): \").split()\n",
        "loss_functions = ['sparse_categorical_crossentropy', 'categorical_crossentropy']\n",
        "\n",
        "for num_epochs in num_epochs_list:\n",
        "   for num_hidden_layers in num_hidden_layers_list:\n",
        "     for activation_function in activation_functions:\n",
        "      for loss_function in loss_functions:\n",
        "         model = build_model(num_hidden_layers,activation_function)\n",
        "\n",
        "         if loss_function == 'categorical_crossentropy':\n",
        "           y_train_onehot  = tf.keras.utils.to_categorical(y_train)\n",
        "           y_val_onehot = tf.keras.utils.to_categorical(y_val)\n",
        "           train_data = (X_train,y_train_onehot)\n",
        "           val_data = (X_val,y_val_onehot)\n",
        "         else:\n",
        "           train_data = (X_train,y_train)\n",
        "           val_data = (X_val,y_val)\n",
        "\n",
        "         model.compile(optimizer='adam', loss=loss_function,metrics=['accuracy'])\n",
        "         print(f\"Training with {num_epochs} epochs, {num_hidden_layers} hidden layers, {activation_function} activation, and {loss_function} loss:\")\n",
        "         history = model.fit(train_data[0], train_data[1], epochs=num_epochs, validation_data=val_data,verbose= 0)\n",
        "         train_loss, train_acc = model.evaluate(train_data[0], train_data[1], verbose=0)\n",
        "         val_loss, val_acc = model.evaluate(val_data[0], val_data[1], verbose=0)\n",
        "         print(f\"Train Accuracy: {train_acc:.4f}, Validation Accuracy: {val_acc:.4f}\")\n"
      ],
      "metadata": {
        "colab": {
          "base_uri": "https://localhost:8080/"
        },
        "id": "oPStb0hqQzw5",
        "outputId": "527d4bec-b6b1-4191-a0c2-d9ac31578fb6"
      },
      "execution_count": 2,
      "outputs": [
        {
          "output_type": "stream",
          "name": "stdout",
          "text": [
            "Enter a list of number of epochs (e.g., 10 50 100): 100\n",
            "Enter a list of number of hidden layers (e.g., 1 2 3): 2\n",
            "Enter a list of activation functions (e.g.,relu tanh sigmoid): relu\n",
            "Training with 100 epochs, 2 hidden layers, relu activation, and sparse_categorical_crossentropy loss:\n",
            "Train Accuracy: 0.9750, Validation Accuracy: 1.0000\n",
            "Training with 100 epochs, 2 hidden layers, relu activation, and categorical_crossentropy loss:\n",
            "Train Accuracy: 0.9833, Validation Accuracy: 1.0000\n"
          ]
        }
      ]
    },
    {
      "cell_type": "code",
      "source": [],
      "metadata": {
        "id": "UYf0AsREWXbd"
      },
      "execution_count": null,
      "outputs": []
    }
  ]
}